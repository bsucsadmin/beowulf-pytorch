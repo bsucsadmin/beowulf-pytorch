{
 "cells": [
  {
   "cell_type": "code",
   "execution_count": 1,
   "id": "221accd2-6292-4b2d-86a3-0cd8ab61a65b",
   "metadata": {},
   "outputs": [],
   "source": [
    "import timeit\n",
    "import torch"
   ]
  },
  {
   "cell_type": "code",
   "execution_count": 2,
   "id": "eee2cf33-195e-41b0-b652-1fbf88fc2be2",
   "metadata": {},
   "outputs": [
    {
     "name": "stdout",
     "output_type": "stream",
     "text": [
      "Model: NVIDIA A2\n"
     ]
    }
   ],
   "source": [
    "print(f'Model: {torch.cuda.get_device_name(0)}')"
   ]
  },
  {
   "cell_type": "code",
   "execution_count": 3,
   "id": "34cc4a83-c75b-4b85-84bb-73592e46bb08",
   "metadata": {},
   "outputs": [],
   "source": [
    "#--------------------------------- Use CPU -----------------------------------------\n",
    "def use_cpu():\n",
    "    device = torch.device('cpu')\n",
    "\n",
    "\n",
    "    dim=8000\n",
    "    tensor_a = torch.randn(dim,dim, device=device)\n",
    "    tensor_b = torch.randn(dim,dim, device=device) \n",
    "\n",
    "    torch.matmul(tensor_a, tensor_b)"
   ]
  },
  {
   "cell_type": "code",
   "execution_count": 4,
   "id": "9dc47992-c9c0-45a3-875f-b8eebceafa4c",
   "metadata": {},
   "outputs": [],
   "source": [
    "#--------------------------------- Use GPU -----------------------------------------\n",
    "def use_gpu():\n",
    "    device = torch.device('cuda')\n",
    "\n",
    "    dim=8000\n",
    "    tensor_a = torch.randn(dim,dim, device=device)\n",
    "    tensor_b = torch.randn(dim,dim, device=device) \n",
    "\n",
    "    torch.matmul(tensor_a, tensor_b)"
   ]
  },
  {
   "cell_type": "code",
   "execution_count": 5,
   "id": "cc7cc8d5-db02-4d7b-bb92-89b75968f0cc",
   "metadata": {},
   "outputs": [
    {
     "name": "stdout",
     "output_type": "stream",
     "text": [
      "Avg time for CPU: 8.185342564899475\n",
      "Avg time for GPU: 0.09110322771593929\n",
      "GPU is 89.85 times faster than the CPU\n"
     ]
    }
   ],
   "source": [
    "time_1 = timeit.timeit(use_cpu, number=10) / 10\n",
    "print(f'Avg time for CPU: {time_1}')\n",
    "time_2 = timeit.timeit(use_gpu, number=10) / 10\n",
    "print(f'Avg time for GPU: {time_2}')\n",
    "speed_up = round(time_1 / time_2, 2)\n",
    "print(f'GPU is {speed_up} times faster than the CPU')"
   ]
  },
  {
   "cell_type": "code",
   "execution_count": null,
   "id": "f8698abe-7720-47ae-8924-87d0d9db953b",
   "metadata": {},
   "outputs": [],
   "source": []
  }
 ],
 "metadata": {
  "kernelspec": {
   "display_name": "Python [conda env:.conda-torch]",
   "language": "python",
   "name": "conda-env-.conda-torch-py"
  },
  "language_info": {
   "codemirror_mode": {
    "name": "ipython",
    "version": 3
   },
   "file_extension": ".py",
   "mimetype": "text/x-python",
   "name": "python",
   "nbconvert_exporter": "python",
   "pygments_lexer": "ipython3",
   "version": "3.10.16"
  }
 },
 "nbformat": 4,
 "nbformat_minor": 5
}
